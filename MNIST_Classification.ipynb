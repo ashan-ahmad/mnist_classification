{
  "nbformat": 4,
  "nbformat_minor": 0,
  "metadata": {
    "colab": {
      "provenance": []
    },
    "kernelspec": {
      "name": "python3",
      "display_name": "Python 3"
    },
    "language_info": {
      "name": "python"
    }
  },
  "cells": [
    {
      "cell_type": "markdown",
      "source": [
        "# About the Dataset\n",
        "\n",
        "The Keras library conveniently includes the MNIST dataset as part of its API. You can check other datasets within the Keras library [here](https://keras.io/datasets/).\n",
        "\n",
        "So, let's load the MNIST dataset from the Keras library. The dataset is readily divided into a training set and a test set.\n"
      ],
      "metadata": {
        "id": "Cp_DxuxKVMCf"
      }
    },
    {
      "cell_type": "code",
      "execution_count": 1,
      "metadata": {
        "id": "ncUkpOxoVCne"
      },
      "outputs": [],
      "source": [
        "import keras\n",
        "\n",
        "from keras.models import Sequential\n",
        "from keras.layers import Dense\n",
        "from keras.layers import Input\n",
        "from keras.utils import to_categorical"
      ]
    },
    {
      "cell_type": "code",
      "source": [
        "import matplotlib.pyplot as plt"
      ],
      "metadata": {
        "id": "wehF_cWOVeDs"
      },
      "execution_count": 2,
      "outputs": []
    },
    {
      "cell_type": "code",
      "source": [
        "# import the data\n",
        "from keras.datasets import mnist\n",
        "\n",
        "# read the data\n",
        "(X_train, y_train), (X_test, y_test) = mnist.load_data()"
      ],
      "metadata": {
        "colab": {
          "base_uri": "https://localhost:8080/"
        },
        "id": "wbWneWjNVhmY",
        "outputId": "a7b66592-96fd-4d83-85f0-3bd6917aa796"
      },
      "execution_count": 3,
      "outputs": [
        {
          "output_type": "stream",
          "name": "stdout",
          "text": [
            "Downloading data from https://storage.googleapis.com/tensorflow/tf-keras-datasets/mnist.npz\n",
            "\u001b[1m11490434/11490434\u001b[0m \u001b[32m━━━━━━━━━━━━━━━━━━━━\u001b[0m\u001b[37m\u001b[0m \u001b[1m0s\u001b[0m 0us/step\n"
          ]
        }
      ]
    },
    {
      "cell_type": "code",
      "source": [
        "X_train.shape\n"
      ],
      "metadata": {
        "colab": {
          "base_uri": "https://localhost:8080/"
        },
        "id": "FCucKcGMVju6",
        "outputId": "15c8be28-9c1a-4c91-d4c9-d708ec0f300e"
      },
      "execution_count": 4,
      "outputs": [
        {
          "output_type": "execute_result",
          "data": {
            "text/plain": [
              "(60000, 28, 28)"
            ]
          },
          "metadata": {},
          "execution_count": 4
        }
      ]
    },
    {
      "cell_type": "markdown",
      "source": [
        "The first number in the output tuple is the number of images, and the other two numbers are the size of the images in datset. So, each image is 28 pixels by 28 pixels.\n"
      ],
      "metadata": {
        "id": "je-qJt0CVmwI"
      }
    },
    {
      "cell_type": "code",
      "source": [
        "plt.imshow(X_train[0])"
      ],
      "metadata": {
        "colab": {
          "base_uri": "https://localhost:8080/",
          "height": 448
        },
        "id": "1-U64GGiVkXY",
        "outputId": "f9bf8e13-bc6a-410b-b2c9-7d824dd0637a"
      },
      "execution_count": 5,
      "outputs": [
        {
          "output_type": "execute_result",
          "data": {
            "text/plain": [
              "<matplotlib.image.AxesImage at 0x7f234ef37210>"
            ]
          },
          "metadata": {},
          "execution_count": 5
        },
        {
          "output_type": "display_data",
          "data": {
            "text/plain": [
              "<Figure size 640x480 with 1 Axes>"
            ],
            "image/png": "[encoded data removed]"
          },
          "metadata": {}
        }
      ]
    },
    {
      "cell_type": "markdown",
      "source": [
        "With conventional neural networks, we cannot feed in the image as input as is. So we need to flatten the images into one-dimensional vectors, each of size 1 x (28 x 28) = 1 x 784.\n"
      ],
      "metadata": {
        "id": "jfL03zVeVrkr"
      }
    },
    {
      "cell_type": "code",
      "source": [
        "num_pixels = X_train.shape[1] * X_train.shape[2] # find size of one-dimensional vector\n",
        "\n",
        "X_train = X_train.reshape(X_train.shape[0], num_pixels).astype('float32') # flatten training images\n",
        "X_test = X_test.reshape(X_test.shape[0], num_pixels).astype('float32') # flatten test images"
      ],
      "metadata": {
        "id": "5iSMQ2nyVpUD"
      },
      "execution_count": 6,
      "outputs": []
    },
    {
      "cell_type": "code",
      "source": [
        "# normalize inputs from 0-255 to 0-1\n",
        "X_train = X_train / 255\n",
        "X_test = X_test / 255"
      ],
      "metadata": {
        "id": "IT30DVG6Vw7X"
      },
      "execution_count": 7,
      "outputs": []
    },
    {
      "cell_type": "markdown",
      "source": [
        "Finally, before we start building our model, remember that for classification we need to divide our target variable into categories. We use the to_categorical function from the Keras Utilities package.\n"
      ],
      "metadata": {
        "id": "lyWbglSxVzpN"
      }
    },
    {
      "cell_type": "code",
      "source": [
        "# one hot encode outputs\n",
        "y_train = to_categorical(y_train)\n",
        "y_test = to_categorical(y_test)\n",
        "\n",
        "num_classes = y_test.shape[1]\n",
        "print(num_classes)"
      ],
      "metadata": {
        "colab": {
          "base_uri": "https://localhost:8080/"
        },
        "id": "Fmgy6N4eV0N9",
        "outputId": "c11c3abf-74a2-4830-f761-0fdd905978f1"
      },
      "execution_count": 8,
      "outputs": [
        {
          "output_type": "stream",
          "name": "stdout",
          "text": [
            "10\n"
          ]
        }
      ]
    },
    {
      "cell_type": "markdown",
      "source": [
        "## Build a Neural Network\n"
      ],
      "metadata": {
        "id": "M71ESud_V2ad"
      }
    },
    {
      "cell_type": "code",
      "source": [
        "# define classification model\n",
        "def classification_model():\n",
        "    # create model\n",
        "\n",
        "    model = Sequential()\n",
        "    model.add(Input(shape=(num_pixels,)))\n",
        "    model.add(Dense(num_pixels, activation='relu'))\n",
        "    model.add(Dense(100, activation='relu'))\n",
        "    model.add(Dense(num_classes, activation='softmax'))\n",
        "\n",
        "\n",
        "    # compile model\n",
        "    model.compile(optimizer='adam', loss='categorical_crossentropy', metrics=['accuracy'])\n",
        "    return model"
      ],
      "metadata": {
        "id": "M1T-qf6yV4eo"
      },
      "execution_count": 9,
      "outputs": []
    },
    {
      "cell_type": "markdown",
      "source": [
        "## Train and Test the Network\n"
      ],
      "metadata": {
        "id": "ohyAcmk6V8TE"
      }
    },
    {
      "cell_type": "code",
      "source": [
        "# build the model\n",
        "model = classification_model()\n",
        "\n",
        "# fit the model\n",
        "model.fit(X_train, y_train, validation_data=(X_test, y_test), epochs=10, verbose=2)\n",
        "\n",
        "# evaluate the model\n",
        "scores = model.evaluate(X_test, y_test, verbose=0)"
      ],
      "metadata": {
        "colab": {
          "base_uri": "https://localhost:8080/"
        },
        "id": "Vd-G9YrkV-dQ",
        "outputId": "1a4ffb16-264e-4ab1-8d64-a1c9db98543f"
      },
      "execution_count": 10,
      "outputs": [
        {
          "output_type": "stream",
          "name": "stdout",
          "text": [
            "Epoch 1/10\n",
            "1875/1875 - 26s - 14ms/step - accuracy: 0.9437 - loss: 0.1851 - val_accuracy: 0.9692 - val_loss: 0.1031\n",
            "Epoch 2/10\n",
            "1875/1875 - 39s - 21ms/step - accuracy: 0.9756 - loss: 0.0775 - val_accuracy: 0.9710 - val_loss: 0.1001\n",
            "Epoch 3/10\n",
            "1875/1875 - 22s - 12ms/step - accuracy: 0.9833 - loss: 0.0526 - val_accuracy: 0.9795 - val_loss: 0.0678\n",
            "Epoch 4/10\n",
            "1875/1875 - 20s - 11ms/step - accuracy: 0.9870 - loss: 0.0405 - val_accuracy: 0.9768 - val_loss: 0.0746\n",
            "Epoch 5/10\n",
            "1875/1875 - 19s - 10ms/step - accuracy: 0.9893 - loss: 0.0321 - val_accuracy: 0.9811 - val_loss: 0.0694\n",
            "Epoch 6/10\n",
            "1875/1875 - 21s - 11ms/step - accuracy: 0.9922 - loss: 0.0251 - val_accuracy: 0.9836 - val_loss: 0.0611\n",
            "Epoch 7/10\n",
            "1875/1875 - 18s - 10ms/step - accuracy: 0.9923 - loss: 0.0230 - val_accuracy: 0.9823 - val_loss: 0.0771\n",
            "Epoch 8/10\n",
            "1875/1875 - 19s - 10ms/step - accuracy: 0.9938 - loss: 0.0203 - val_accuracy: 0.9795 - val_loss: 0.0836\n",
            "Epoch 9/10\n",
            "1875/1875 - 20s - 11ms/step - accuracy: 0.9943 - loss: 0.0180 - val_accuracy: 0.9818 - val_loss: 0.0801\n",
            "Epoch 10/10\n",
            "1875/1875 - 21s - 11ms/step - accuracy: 0.9952 - loss: 0.0153 - val_accuracy: 0.9785 - val_loss: 0.0990\n"
          ]
        }
      ]
    },
    {
      "cell_type": "code",
      "source": [
        "print('Accuracy: {}% \\n Error: {}'.format(scores[1], 1 - scores[1]))"
      ],
      "metadata": {
        "colab": {
          "base_uri": "https://localhost:8080/"
        },
        "id": "uSeag3QnWCdo",
        "outputId": "7d203983-2701-42d2-f9c0-0a9d0c81c18b"
      },
      "execution_count": 11,
      "outputs": [
        {
          "output_type": "stream",
          "name": "stdout",
          "text": [
            "Accuracy: 0.9785000085830688% \n",
            " Error: 0.021499991416931152\n"
          ]
        }
      ]
    },
    {
      "cell_type": "code",
      "source": [
        "model.save('classification_model.keras')"
      ],
      "metadata": {
        "id": "K7h2lA7lWEbt"
      },
      "execution_count": 12,
      "outputs": []
    },
    {
      "cell_type": "code",
      "source": [
        "pretrained_model = keras.saving.load_model('classification_model.keras')"
      ],
      "metadata": {
        "id": "Y2I2v6f1WGvM"
      },
      "execution_count": 13,
      "outputs": []
    },
    {
      "cell_type": "markdown",
      "source": [
        "Creating a neural network model with 6 dense layers and compare its accuracy\n"
      ],
      "metadata": {
        "id": "o7v_e-gIWMBi"
      }
    },
    {
      "cell_type": "code",
      "source": [
        "def classification_model_6layers():\n",
        "    # create model\n",
        "\n",
        "    model = Sequential()\n",
        "    model.add(Input(shape=(num_pixels,)))\n",
        "    model.add(Dense(num_pixels, activation='relu'))\n",
        "    model.add(Dense(100, activation='relu'))\n",
        "    model.add(Dense(100, activation='relu'))\n",
        "    model.add(Dense(100, activation='relu'))\n",
        "    model.add(Dense(100, activation='relu'))\n",
        "    model.add(Dense(num_classes, activation='softmax'))\n",
        "\n",
        "\n",
        "    # compile model\n",
        "    model.compile(optimizer='adam', loss='categorical_crossentropy', metrics=['accuracy'])\n",
        "    return model\n",
        "\n",
        "# build the model\n",
        "model_6layers = classification_model_6layers()\n",
        "\n",
        "# fit the model\n",
        "model_6layers.fit(X_train, y_train, validation_data=(X_test, y_test), epochs=10, verbose=2)\n",
        "\n",
        "# evaluate the model\n",
        "scores_6layers = model_6layers.evaluate(X_test, y_test, verbose=0)\n",
        "\n",
        "print('Accuracy_3_layers: {}% \\n Accuracy_6_layers: {}'.format(scores[1], scores_6layers[1]))"
      ],
      "metadata": {
        "colab": {
          "base_uri": "https://localhost:8080/"
        },
        "id": "fpNfHCPbWN8Y",
        "outputId": "37485fcb-b16b-4e09-b9ee-37bd8adb41e4"
      },
      "execution_count": 14,
      "outputs": [
        {
          "output_type": "stream",
          "name": "stdout",
          "text": [
            "Epoch 1/10\n",
            "1875/1875 - 22s - 12ms/step - accuracy: 0.9345 - loss: 0.2175 - val_accuracy: 0.9640 - val_loss: 0.1228\n",
            "Epoch 2/10\n",
            "1875/1875 - 41s - 22ms/step - accuracy: 0.9713 - loss: 0.0972 - val_accuracy: 0.9724 - val_loss: 0.0945\n",
            "Epoch 3/10\n",
            "1875/1875 - 40s - 21ms/step - accuracy: 0.9792 - loss: 0.0710 - val_accuracy: 0.9768 - val_loss: 0.0850\n",
            "Epoch 4/10\n",
            "1875/1875 - 21s - 11ms/step - accuracy: 0.9832 - loss: 0.0568 - val_accuracy: 0.9790 - val_loss: 0.0793\n",
            "Epoch 5/10\n",
            "1875/1875 - 21s - 11ms/step - accuracy: 0.9860 - loss: 0.0468 - val_accuracy: 0.9755 - val_loss: 0.0843\n",
            "Epoch 6/10\n",
            "1875/1875 - 41s - 22ms/step - accuracy: 0.9884 - loss: 0.0390 - val_accuracy: 0.9807 - val_loss: 0.0690\n",
            "Epoch 7/10\n",
            "1875/1875 - 19s - 10ms/step - accuracy: 0.9898 - loss: 0.0349 - val_accuracy: 0.9815 - val_loss: 0.0744\n",
            "Epoch 8/10\n",
            "1875/1875 - 20s - 11ms/step - accuracy: 0.9908 - loss: 0.0299 - val_accuracy: 0.9787 - val_loss: 0.0866\n",
            "Epoch 9/10\n",
            "1875/1875 - 20s - 11ms/step - accuracy: 0.9926 - loss: 0.0275 - val_accuracy: 0.9833 - val_loss: 0.0671\n",
            "Epoch 10/10\n",
            "1875/1875 - 20s - 11ms/step - accuracy: 0.9929 - loss: 0.0239 - val_accuracy: 0.9823 - val_loss: 0.0871\n",
            "Accuracy_3_layers: 0.9785000085830688% \n",
            " Accuracy_6_layers: 0.9822999835014343\n"
          ]
        }
      ]
    },
    {
      "cell_type": "markdown",
      "source": [
        "Now, load the the earlier saved model, train it further for 10 more epochs and check the accuracy\n"
      ],
      "metadata": {
        "id": "uflQmG34WRGY"
      }
    },
    {
      "cell_type": "code",
      "source": [
        "#load the saved model\n",
        "pretrained_model = keras.saving.load_model('classification_model.keras')\n",
        "\n",
        "print(\"Pre-trained model loaded successufully\")\n",
        "\n",
        "# Further train the loaded model\n",
        "pretrained_model.fit(X_train, y_train, validation_data=(X_test, y_test), epochs=10, verbose=2)\n",
        "\n",
        "# evaluate the model\n",
        "scores_20_epochs = pretrained_model.evaluate(X_test, y_test, verbose=0)\n",
        "print('Accuracy_10_epochs: {}% \\n Accuracy_20_epochs: {}'.format(scores[1], scores_20_epochs[1]))"
      ],
      "metadata": {
        "colab": {
          "base_uri": "https://localhost:8080/"
        },
        "id": "9hXfOLFDWTb1",
        "outputId": "7e35757c-50f6-40ea-b920-93d83f3c13a6"
      },
      "execution_count": 15,
      "outputs": [
        {
          "output_type": "stream",
          "name": "stdout",
          "text": [
            "Pre-trained model loaded successufully\n",
            "Epoch 1/10\n",
            "1875/1875 - 23s - 12ms/step - accuracy: 0.9952 - loss: 0.0154 - val_accuracy: 0.9820 - val_loss: 0.0905\n",
            "Epoch 2/10\n",
            "1875/1875 - 18s - 10ms/step - accuracy: 0.9952 - loss: 0.0149 - val_accuracy: 0.9833 - val_loss: 0.0901\n",
            "Epoch 3/10\n",
            "1875/1875 - 20s - 10ms/step - accuracy: 0.9958 - loss: 0.0135 - val_accuracy: 0.9820 - val_loss: 0.0978\n",
            "Epoch 4/10\n",
            "1875/1875 - 19s - 10ms/step - accuracy: 0.9969 - loss: 0.0103 - val_accuracy: 0.9803 - val_loss: 0.1143\n",
            "Epoch 5/10\n",
            "1875/1875 - 19s - 10ms/step - accuracy: 0.9962 - loss: 0.0137 - val_accuracy: 0.9820 - val_loss: 0.0986\n",
            "Epoch 6/10\n",
            "1875/1875 - 21s - 11ms/step - accuracy: 0.9970 - loss: 0.0099 - val_accuracy: 0.9834 - val_loss: 0.0889\n",
            "Epoch 7/10\n",
            "1875/1875 - 19s - 10ms/step - accuracy: 0.9970 - loss: 0.0107 - val_accuracy: 0.9820 - val_loss: 0.1322\n",
            "Epoch 8/10\n",
            "1875/1875 - 21s - 11ms/step - accuracy: 0.9966 - loss: 0.0121 - val_accuracy: 0.9831 - val_loss: 0.1041\n",
            "Epoch 9/10\n",
            "1875/1875 - 19s - 10ms/step - accuracy: 0.9971 - loss: 0.0100 - val_accuracy: 0.9835 - val_loss: 0.1013\n",
            "Epoch 10/10\n",
            "1875/1875 - 22s - 12ms/step - accuracy: 0.9978 - loss: 0.0070 - val_accuracy: 0.9724 - val_loss: 0.1778\n",
            "Accuracy_10_epochs: 0.9785000085830688% \n",
            " Accuracy_20_epochs: 0.9724000096321106\n"
          ]
        }
      ]
    },
    {
      "cell_type": "code",
      "source": [],
      "metadata": {
        "id": "ERIzszp9WYC-"
      },
      "execution_count": null,
      "outputs": []
    }
  ]
}